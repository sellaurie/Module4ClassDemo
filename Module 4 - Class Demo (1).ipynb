{
 "cells": [
  {
   "cell_type": "markdown",
   "id": "e3dd6c76",
   "metadata": {},
   "source": [
    "### More List Methods"
   ]
  },
  {
   "cell_type": "code",
   "execution_count": null,
   "id": "3d4e375c",
   "metadata": {},
   "outputs": [],
   "source": [
    "## define a list of clothes\n",
    "\n",
    "clothes = ['shirts', 'jacket', 'pants', 'shorts', 'coat']"
   ]
  },
  {
   "cell_type": "markdown",
   "id": "846b2e80",
   "metadata": {},
   "source": [
    "#### pop method\n",
    "\n",
    "The .pop() method removes an item from a list. If no argument is given, it automatically removes the last item from the list. If you give the index, it will remove the item found in that index location. "
   ]
  },
  {
   "cell_type": "code",
   "execution_count": null,
   "id": "ba78f79d",
   "metadata": {},
   "outputs": [],
   "source": [
    "## remove the last item of the list clothes\n",
    "\n",
    "clothes.pop()\n",
    "\n",
    "print(clothes)"
   ]
  },
  {
   "cell_type": "code",
   "execution_count": null,
   "id": "6c0ecb3e",
   "metadata": {},
   "outputs": [],
   "source": [
    "## save the removed item to a variable\n",
    "\n",
    "item = clothes.pop()\n",
    "\n",
    "print(item)"
   ]
  },
  {
   "cell_type": "code",
   "execution_count": null,
   "id": "ca40f2c0",
   "metadata": {},
   "outputs": [],
   "source": [
    "## remove an item at a specific index\n",
    "\n",
    "item = clothes.pop(2)\n",
    "\n",
    "print(item)"
   ]
  },
  {
   "cell_type": "markdown",
   "id": "d8504659",
   "metadata": {},
   "source": [
    "#### remove method\n",
    "\n",
    "The .remove() method will remove a specific item from a list. If an item is repeated within the list, it will remove the first instance. "
   ]
  },
  {
   "cell_type": "code",
   "execution_count": null,
   "id": "4c767389",
   "metadata": {},
   "outputs": [],
   "source": [
    "## remove item from list given name\n",
    "\n",
    "clothes.remove(\"shirts\")\n",
    "\n",
    "print(clothes)"
   ]
  },
  {
   "cell_type": "markdown",
   "id": "f8dc3047",
   "metadata": {},
   "source": [
    "#### count method\n",
    "\n",
    "The count method returns the number of times a specified item appears in a list. "
   ]
  },
  {
   "cell_type": "code",
   "execution_count": null,
   "id": "edab165c",
   "metadata": {
    "scrolled": true
   },
   "outputs": [],
   "source": [
    "## let's check if 'pants' show up in the list at all\n",
    "\n",
    "\"pants\" in clothes"
   ]
  },
  {
   "cell_type": "code",
   "execution_count": null,
   "id": "b5bb8575",
   "metadata": {},
   "outputs": [],
   "source": [
    "## how many times does \"pants\" show up in the list?\n",
    "\n",
    "clothes.count(\"pants\")"
   ]
  },
  {
   "cell_type": "markdown",
   "id": "a8f30337",
   "metadata": {},
   "source": [
    "#### sort method and function \n",
    "\n",
    "The sort method sorts elements of a given list (ascending or descending) order. "
   ]
  },
  {
   "cell_type": "code",
   "execution_count": null,
   "id": "325305ac",
   "metadata": {},
   "outputs": [],
   "source": [
    "## copy the clothes list\n",
    "\n",
    "clothes_sorted = clothes.copy()\n",
    "\n",
    "## sort the 'clothes_sorted' list\n",
    "\n",
    "clothes_sorted.sort()\n",
    "\n",
    "## print unsorted and sorted list\n",
    "\n",
    "print(f\"Original order: {clothes}\")\n",
    "print(f\"Sorted order: {clothes_sorted}\")"
   ]
  },
  {
   "cell_type": "code",
   "execution_count": null,
   "id": "4fb19f55",
   "metadata": {},
   "outputs": [],
   "source": [
    "## copy the clothes list\n",
    "\n",
    "clothes_sorted = clothes.copy()\n",
    "\n",
    "## sort the 'clothes_sorted' list in reverse order\n",
    "\n",
    "clothes_sorted.sort(reverse = True)\n",
    "\n",
    "## print unsorted and sorted list\n",
    "\n",
    "print(f\"Original order: {clothes}\")\n",
    "print(f\"Sorted order: {clothes_sorted}\")"
   ]
  },
  {
   "cell_type": "code",
   "execution_count": null,
   "id": "2097f27e",
   "metadata": {},
   "outputs": [],
   "source": [
    "## sorted function - sorted()\n",
    "## sort the 'clothes_sorted' list\n",
    "\n",
    "clothes_sorted = sorted(clothes)\n",
    "\n",
    "## print unsorted and sorted list\n",
    "\n",
    "print(f\"Original order: {clothes}\")\n",
    "print(f\"Sorted order: {clothes_sorted}\")"
   ]
  },
  {
   "cell_type": "markdown",
   "id": "17e744c4",
   "metadata": {},
   "source": [
    "### Tuples\n",
    "\n",
    "A tuple is another data type similar to a list (a collection of items); however, unlike a list, a tuple is unchangeable. Lists are <b>dynamic</b> and tuples are <b>static</b>. Lists can be changed or modified after they are created, tuples cannot be changed or modified after creation. Since it cannot be changed, it has less functionality than a list. "
   ]
  },
  {
   "cell_type": "code",
   "execution_count": null,
   "id": "1643ae2e",
   "metadata": {},
   "outputs": [],
   "source": [
    "## tuples are created using paraentheses vs brackets \n",
    "\n",
    "week = ('M', 'T', 'W', 'Th', 'F', 'Sa', 'Su')\n",
    "\n",
    "## print tuple\n",
    "\n",
    "print(week)"
   ]
  },
  {
   "cell_type": "code",
   "execution_count": null,
   "id": "5a80d8c5",
   "metadata": {
    "scrolled": true
   },
   "outputs": [],
   "source": [
    "## determine the length of a tuple\n",
    "\n",
    "print(len(week))\n",
    "\n",
    "## index items in a tuple\n",
    "\n",
    "print(week[3])\n",
    "\n",
    "## slice items in a tuple\n",
    "# slicing a tuple is inclusive : exclusive\n",
    "\n",
    "print(week[0:4])"
   ]
  },
  {
   "cell_type": "markdown",
   "id": "cd6ca93a",
   "metadata": {},
   "source": [
    "#### list() and tuple() methods\n",
    "\n",
    "You can convert a tuple to a list using the list() function; you can convert a list into a tuple using the tuple() function. "
   ]
  },
  {
   "cell_type": "code",
   "execution_count": null,
   "id": "a5610fb0",
   "metadata": {},
   "outputs": [],
   "source": [
    "# convert list to tuple\n",
    "\n",
    "clothes_tuple = tuple(clothes)\n",
    "\n",
    "# print tuple\n",
    "\n",
    "print(clothes_tuple)\n",
    "print(type(clothes_tuple))"
   ]
  },
  {
   "cell_type": "code",
   "execution_count": null,
   "id": "2ff08a4d",
   "metadata": {},
   "outputs": [],
   "source": [
    "# convert tuple to list\n",
    "\n",
    "week_list = list(week)\n",
    "\n",
    "# print list\n",
    "\n",
    "print(week_list)\n",
    "print(type(week_list))"
   ]
  },
  {
   "cell_type": "markdown",
   "id": "03684a97",
   "metadata": {},
   "source": [
    "# [ Exercise 1 ] \n",
    "\n",
    "Get 7 book titles from a user and save the title names into a list. Next, remove the title in the middle of the list <b>after</b> sorting the list alphabetically. Finally, using formatted strings, display the original list, the sorted list, and the list after removing the above item. \n",
    "\n",
    "Make copies of your lists as you work through the steps. "
   ]
  },
  {
   "cell_type": "code",
   "execution_count": 16,
   "id": "414f92d1",
   "metadata": {},
   "outputs": [
    {
     "name": "stdout",
     "output_type": "stream",
     "text": [
      "Give a book title: a\n",
      "Give a 2nd book title: s\n",
      "Give a 3rd book title: d\n",
      "Give a 4th book title: f\n",
      "Give a 5th book title: g\n",
      "Give a 6th book title: h\n",
      "Give a 7th book title: j\n",
      "['a', 's', 'd', 'f', 'g', 'h', 'j']\n"
     ]
    }
   ],
   "source": [
    "b1 = input(\"Give a book title: \")\n",
    "b2 = input(\"Give a 2nd book title: \")\n",
    "b3 = input(\"Give a 3rd book title: \")\n",
    "b4 = input(\"Give a 4th book title: \")\n",
    "b5 = input(\"Give a 5th book title: \")\n",
    "b6 = input(\"Give a 6th book title: \")\n",
    "b7 = input(\"Give a 7th book title: \")\n",
    "\n",
    "b_list = [b1, b2, b3, b4, b5, b6, b7]\n",
    "\n",
    "print(b_list)"
   ]
  },
  {
   "cell_type": "code",
   "execution_count": 17,
   "id": "0db8817c",
   "metadata": {},
   "outputs": [
    {
     "ename": "ValueError",
     "evalue": "list.remove(x): x not in list",
     "output_type": "error",
     "traceback": [
      "\u001b[1;31m---------------------------------------------------------------------------\u001b[0m",
      "\u001b[1;31mValueError\u001b[0m                                Traceback (most recent call last)",
      "\u001b[1;32mC:\\Users\\RVHU32~1\\AppData\\Local\\Temp/ipykernel_10360/861611873.py\u001b[0m in \u001b[0;36m<module>\u001b[1;34m\u001b[0m\n\u001b[1;32m----> 1\u001b[1;33m \u001b[0mb_list\u001b[0m\u001b[1;33m.\u001b[0m\u001b[0mremove\u001b[0m\u001b[1;33m(\u001b[0m\u001b[1;34m\"b3\"\u001b[0m\u001b[1;33m)\u001b[0m\u001b[1;33m\u001b[0m\u001b[1;33m\u001b[0m\u001b[0m\n\u001b[0m\u001b[0;32m      2\u001b[0m \u001b[1;33m\u001b[0m\u001b[0m\n\u001b[0;32m      3\u001b[0m \u001b[0mprint\u001b[0m\u001b[1;33m(\u001b[0m\u001b[0mb_list\u001b[0m\u001b[1;33m)\u001b[0m\u001b[1;33m\u001b[0m\u001b[1;33m\u001b[0m\u001b[0m\n",
      "\u001b[1;31mValueError\u001b[0m: list.remove(x): x not in list"
     ]
    }
   ],
   "source": [
    "copylist = b_list.copy()\n",
    "\n",
    "copylist.sort()\n",
    "copylist2 = copylist.copy()\n",
    "copylist2 = copylist.sort()\n",
    "\n",
    "copylist2.pop(3)\n",
    "\n",
    "print(f\"original list {b_list}\")\n",
    "print (f\"sorted list {copylist}\")\n",
    "print (f\"removed list {copylist2}\")"
   ]
  },
  {
   "cell_type": "markdown",
   "id": "6419208b",
   "metadata": {},
   "source": [
    "### Loops\n",
    "\n",
    "#### For Loops\n",
    "For-loops are used to iterate (repeat) over a sequence. Using a for loop, we can execute a set of tasks once for <b>each</b> item in a list, tuple, string, etc."
   ]
  },
  {
   "cell_type": "code",
   "execution_count": null,
   "id": "f6f174bb",
   "metadata": {},
   "outputs": [],
   "source": [
    "## define a list of colors\n",
    "\n",
    "colors = [\"red\", \"blue\", \"green\", \"pink\", \"purple\", \"yellow\"]"
   ]
  },
  {
   "cell_type": "code",
   "execution_count": null,
   "id": "7918b315",
   "metadata": {},
   "outputs": [],
   "source": [
    "## create a for-loop to print each color in the list\n",
    "\n",
    "for color in colors:\n",
    "    print(color)"
   ]
  },
  {
   "cell_type": "code",
   "execution_count": null,
   "id": "dccb4b4b",
   "metadata": {},
   "outputs": [],
   "source": [
    "## create a for-loop to print each color in the list with formatted string\n",
    "\n",
    "for color in colors:\n",
    "    print(f\"My favorite color is {color}.\")"
   ]
  },
  {
   "cell_type": "code",
   "execution_count": null,
   "id": "0bc0ccba",
   "metadata": {},
   "outputs": [],
   "source": [
    "## using a for-loop with a string\n",
    "\n",
    "for letter in \"Hello how are you?\":\n",
    "    print(letter)"
   ]
  },
  {
   "cell_type": "code",
   "execution_count": null,
   "id": "d8df23ba",
   "metadata": {},
   "outputs": [],
   "source": [
    "stars = [3, 8, 2, 1, 6, 7, 4, 5]\n",
    "\n",
    "for num in stars:\n",
    "    print(\"*\" * num)"
   ]
  },
  {
   "cell_type": "code",
   "execution_count": null,
   "id": "925a46f6",
   "metadata": {
    "scrolled": true
   },
   "outputs": [],
   "source": [
    "names = [\"Carlos\", \"James\", \"Mark\", \"Janie\", \"Lucy\", \"Sarah\", \"Jackson\"]\n",
    "\n",
    "for name in names:\n",
    "    if name[0] == \"J\":\n",
    "        print(name)\n",
    "    else:\n",
    "        print(\"---\")"
   ]
  },
  {
   "cell_type": "markdown",
   "id": "2e2d135c",
   "metadata": {},
   "source": [
    "# [ Exercise 2 ]\n",
    "\n",
    "Get a list of 5 numbers from a user. Save those numbers in a list called <b>numbers</b>. Create a for-loop that takes each number in the list and adds \"10\" to the number. Print each sum value. "
   ]
  },
  {
   "cell_type": "code",
   "execution_count": 21,
   "id": "806093b8",
   "metadata": {},
   "outputs": [
    {
     "name": "stdout",
     "output_type": "stream",
     "text": [
      "Give a number: 0\n",
      "Give a 2nd number: 10\n",
      "Give a 3rd number: 2\n",
      "Give a 4th number: 0\n",
      "Give a 5th number: 30\n",
      "10\n",
      "20\n",
      "12\n",
      "10\n",
      "40\n"
     ]
    }
   ],
   "source": [
    "n1 = int(input(\"Give a number: \"))\n",
    "n2 = int(input(\"Give a 2nd number: \"))\n",
    "n3 = int(input(\"Give a 3rd number: \"))\n",
    "n4 = int(input(\"Give a 4th number: \"))\n",
    "n5 = int(input(\"Give a 5th number: \"))\n",
    "\n",
    "numbers = [n1, n2, n3, n4, n5]\n",
    "\n",
    "for num in numbers:\n",
    "    print(num + 10)\n",
    "\n"
   ]
  },
  {
   "cell_type": "code",
   "execution_count": null,
   "id": "41ddde53",
   "metadata": {},
   "outputs": [],
   "source": []
  },
  {
   "cell_type": "markdown",
   "id": "cdd3d1e6",
   "metadata": {},
   "source": [
    "#### Range Function\n",
    "\n",
    "The range function creates a sequence of numbers starting from a given integer and stopping before a given integer (inclusive -> exclusive). The range function can be useful when incorporated into loops. The range function defaults to a 0 starting value but this can be altered, for example:\n",
    "\n",
    "        range(0, 10) returns the values 0 through 9\n",
    "        range(0, 11) returns the values 0 through 10\n",
    "        range(2, 7) returns the values 2 through 6\n",
    "        range(-1, 10) returns the values -1 through 9"
   ]
  },
  {
   "cell_type": "code",
   "execution_count": 22,
   "id": "c0f5d5a6",
   "metadata": {},
   "outputs": [
    {
     "name": "stdout",
     "output_type": "stream",
     "text": [
      "1\n",
      "2\n",
      "3\n",
      "4\n"
     ]
    }
   ],
   "source": [
    "for num in range(1, 5):\n",
    "    \n",
    "    print(num)"
   ]
  },
  {
   "cell_type": "code",
   "execution_count": 23,
   "id": "ae3b977c",
   "metadata": {},
   "outputs": [
    {
     "name": "stdout",
     "output_type": "stream",
     "text": [
      "1 2 3 4 "
     ]
    }
   ],
   "source": [
    "for num in range(1, 5):\n",
    "    \n",
    "    print(num, end = \" \")"
   ]
  },
  {
   "cell_type": "code",
   "execution_count": 24,
   "id": "296fbcb0",
   "metadata": {},
   "outputs": [
    {
     "name": "stdout",
     "output_type": "stream",
     "text": [
      "\n",
      "^\n",
      "^^\n",
      "^^^\n",
      "^^^^\n",
      "^^^^^\n"
     ]
    }
   ],
   "source": [
    "for num in range(0,6):\n",
    "    \n",
    "    print(num * \"^\")"
   ]
  },
  {
   "cell_type": "code",
   "execution_count": null,
   "id": "90cd7ce6",
   "metadata": {},
   "outputs": [],
   "source": [
    "doubles = []\n",
    "\n",
    "for num in range(0, 100):\n",
    "    if num % 11 == 0:\n",
    "        doubles.append(num)\n",
    "        \n",
    "print(doubles)"
   ]
  },
  {
   "cell_type": "markdown",
   "id": "504ce344",
   "metadata": {},
   "source": [
    "# [ Exercise 3 ]\n",
    "\n",
    "Using the range function and a for-loop to create a list of numbers from 0 through 50. Print each value. If the number ends in 0, next to the printed value, print a series of \" * \" equal to the number. "
   ]
  },
  {
   "cell_type": "code",
   "execution_count": 30,
   "id": "6a7f3a37",
   "metadata": {},
   "outputs": [
    {
     "ename": "SyntaxError",
     "evalue": "invalid syntax (Temp/ipykernel_10360/124993932.py, line 4)",
     "output_type": "error",
     "traceback": [
      "\u001b[1;36m  File \u001b[1;32m\"C:\\Users\\RVHU32~1\\AppData\\Local\\Temp/ipykernel_10360/124993932.py\"\u001b[1;36m, line \u001b[1;32m4\u001b[0m\n\u001b[1;33m    else:\u001b[0m\n\u001b[1;37m    ^\u001b[0m\n\u001b[1;31mSyntaxError\u001b[0m\u001b[1;31m:\u001b[0m invalid syntax\n"
     ]
    }
   ],
   "source": [
    "for num in range(0,51):\n",
    "    if num % 10 == 0:\n",
    "        print (num, (num * \"*\"))\n",
    "        else:\n",
    "            print(num)\n"
   ]
  },
  {
   "cell_type": "code",
   "execution_count": null,
   "id": "f14f4814",
   "metadata": {},
   "outputs": [],
   "source": []
  },
  {
   "cell_type": "markdown",
   "id": "34f7761f",
   "metadata": {},
   "source": [
    "#### While Loops\n",
    "While-loops are used to execute a set of statements as long as a condition remains true. We generally use this loop when we don't know the number of times to iterate beforehand.\n",
    "\n",
    "In the while loop, the conditional expression is checked first. The body of the loop is executed if the conditional expression is true. After one loop, the conditional expression is checked again, if it is still true, the iterations continue. The entire loop continues until the conditional expression is false. "
   ]
  },
  {
   "cell_type": "code",
   "execution_count": 25,
   "id": "ddaf4aea",
   "metadata": {
    "scrolled": false
   },
   "outputs": [
    {
     "name": "stdout",
     "output_type": "stream",
     "text": [
      "1\n",
      "2\n",
      "3\n",
      "4\n",
      "5\n"
     ]
    }
   ],
   "source": [
    "item = 1\n",
    "\n",
    "while item <= 5:\n",
    "    print(item)\n",
    "    item += 1"
   ]
  },
  {
   "cell_type": "code",
   "execution_count": 26,
   "id": "c506d940",
   "metadata": {},
   "outputs": [
    {
     "name": "stdout",
     "output_type": "stream",
     "text": [
      "0 is less than 5!\n",
      "1 is less than 5!\n",
      "2 is less than 5!\n",
      "3 is less than 5!\n",
      "4 is less than 5!\n",
      "5 is not less than 5!\n"
     ]
    }
   ],
   "source": [
    "count = 0\n",
    "\n",
    "while count < 5:\n",
    "    print(f\"{count} is less than 5!\")\n",
    "    count += 1\n",
    "else: \n",
    "    print(f\"{count} is not less than 5!\")"
   ]
  },
  {
   "cell_type": "code",
   "execution_count": 27,
   "id": "c5ad3a08",
   "metadata": {},
   "outputs": [
    {
     "name": "stdout",
     "output_type": "stream",
     "text": [
      "Please make a choice (Y/N): N\n",
      "Goodbye!\n"
     ]
    }
   ],
   "source": [
    "choice = \"Y\"\n",
    "\n",
    "while choice == \"Y\":\n",
    "    choice = input(\"Please make a choice (Y/N): \")\n",
    "    \n",
    "    if choice == \"Y\":\n",
    "        print(\"Hello!\")\n",
    "    else:\n",
    "        print(\"Goodbye!\")"
   ]
  },
  {
   "cell_type": "code",
   "execution_count": 29,
   "id": "f6dac3f4",
   "metadata": {},
   "outputs": [
    {
     "ename": "KeyboardInterrupt",
     "evalue": "Interrupted by user",
     "output_type": "error",
     "traceback": [
      "\u001b[1;31m---------------------------------------------------------------------------\u001b[0m",
      "\u001b[1;31mKeyboardInterrupt\u001b[0m                         Traceback (most recent call last)",
      "\u001b[1;32mC:\\Users\\RVHU32~1\\AppData\\Local\\Temp/ipykernel_10360/2014239350.py\u001b[0m in \u001b[0;36m<module>\u001b[1;34m\u001b[0m\n\u001b[0;32m      2\u001b[0m \u001b[1;33m\u001b[0m\u001b[0m\n\u001b[0;32m      3\u001b[0m \u001b[1;32mwhile\u001b[0m \u001b[0mlen\u001b[0m\u001b[1;33m(\u001b[0m\u001b[0mnumbers\u001b[0m\u001b[1;33m)\u001b[0m \u001b[1;33m<\u001b[0m \u001b[1;36m4\u001b[0m\u001b[1;33m:\u001b[0m\u001b[1;33m\u001b[0m\u001b[1;33m\u001b[0m\u001b[0m\n\u001b[1;32m----> 4\u001b[1;33m     \u001b[0mnum\u001b[0m \u001b[1;33m=\u001b[0m \u001b[0mint\u001b[0m\u001b[1;33m(\u001b[0m\u001b[0minput\u001b[0m\u001b[1;33m(\u001b[0m\u001b[1;34m\"Enter a number: \"\u001b[0m\u001b[1;33m)\u001b[0m\u001b[1;33m)\u001b[0m\u001b[1;33m\u001b[0m\u001b[1;33m\u001b[0m\u001b[0m\n\u001b[0m\u001b[0;32m      5\u001b[0m     \u001b[1;32mif\u001b[0m \u001b[0mnum\u001b[0m \u001b[1;33m%\u001b[0m \u001b[1;36m2\u001b[0m \u001b[1;33m==\u001b[0m \u001b[1;36m0\u001b[0m\u001b[1;33m:\u001b[0m \u001b[1;31m## only even numbers\u001b[0m\u001b[1;33m\u001b[0m\u001b[1;33m\u001b[0m\u001b[0m\n\u001b[0;32m      6\u001b[0m         \u001b[0mnumbers\u001b[0m\u001b[1;33m.\u001b[0m\u001b[0mappend\u001b[0m\u001b[1;33m(\u001b[0m\u001b[0mnum\u001b[0m\u001b[1;33m)\u001b[0m\u001b[1;33m\u001b[0m\u001b[1;33m\u001b[0m\u001b[0m\n",
      "\u001b[1;32mC:\\ProgramData\\Anaconda3\\lib\\site-packages\\ipykernel\\kernelbase.py\u001b[0m in \u001b[0;36mraw_input\u001b[1;34m(self, prompt)\u001b[0m\n\u001b[0;32m   1004\u001b[0m                 \u001b[1;34m\"raw_input was called, but this frontend does not support input requests.\"\u001b[0m\u001b[1;33m\u001b[0m\u001b[1;33m\u001b[0m\u001b[0m\n\u001b[0;32m   1005\u001b[0m             )\n\u001b[1;32m-> 1006\u001b[1;33m         return self._input_request(\n\u001b[0m\u001b[0;32m   1007\u001b[0m             \u001b[0mstr\u001b[0m\u001b[1;33m(\u001b[0m\u001b[0mprompt\u001b[0m\u001b[1;33m)\u001b[0m\u001b[1;33m,\u001b[0m\u001b[1;33m\u001b[0m\u001b[1;33m\u001b[0m\u001b[0m\n\u001b[0;32m   1008\u001b[0m             \u001b[0mself\u001b[0m\u001b[1;33m.\u001b[0m\u001b[0m_parent_ident\u001b[0m\u001b[1;33m[\u001b[0m\u001b[1;34m\"shell\"\u001b[0m\u001b[1;33m]\u001b[0m\u001b[1;33m,\u001b[0m\u001b[1;33m\u001b[0m\u001b[1;33m\u001b[0m\u001b[0m\n",
      "\u001b[1;32mC:\\ProgramData\\Anaconda3\\lib\\site-packages\\ipykernel\\kernelbase.py\u001b[0m in \u001b[0;36m_input_request\u001b[1;34m(self, prompt, ident, parent, password)\u001b[0m\n\u001b[0;32m   1049\u001b[0m             \u001b[1;32mexcept\u001b[0m \u001b[0mKeyboardInterrupt\u001b[0m\u001b[1;33m:\u001b[0m\u001b[1;33m\u001b[0m\u001b[1;33m\u001b[0m\u001b[0m\n\u001b[0;32m   1050\u001b[0m                 \u001b[1;31m# re-raise KeyboardInterrupt, to truncate traceback\u001b[0m\u001b[1;33m\u001b[0m\u001b[1;33m\u001b[0m\u001b[0m\n\u001b[1;32m-> 1051\u001b[1;33m                 \u001b[1;32mraise\u001b[0m \u001b[0mKeyboardInterrupt\u001b[0m\u001b[1;33m(\u001b[0m\u001b[1;34m\"Interrupted by user\"\u001b[0m\u001b[1;33m)\u001b[0m \u001b[1;32mfrom\u001b[0m \u001b[1;32mNone\u001b[0m\u001b[1;33m\u001b[0m\u001b[1;33m\u001b[0m\u001b[0m\n\u001b[0m\u001b[0;32m   1052\u001b[0m             \u001b[1;32mexcept\u001b[0m \u001b[0mException\u001b[0m\u001b[1;33m:\u001b[0m\u001b[1;33m\u001b[0m\u001b[1;33m\u001b[0m\u001b[0m\n\u001b[0;32m   1053\u001b[0m                 \u001b[0mself\u001b[0m\u001b[1;33m.\u001b[0m\u001b[0mlog\u001b[0m\u001b[1;33m.\u001b[0m\u001b[0mwarning\u001b[0m\u001b[1;33m(\u001b[0m\u001b[1;34m\"Invalid Message:\"\u001b[0m\u001b[1;33m,\u001b[0m \u001b[0mexc_info\u001b[0m\u001b[1;33m=\u001b[0m\u001b[1;32mTrue\u001b[0m\u001b[1;33m)\u001b[0m\u001b[1;33m\u001b[0m\u001b[1;33m\u001b[0m\u001b[0m\n",
      "\u001b[1;31mKeyboardInterrupt\u001b[0m: Interrupted by user"
     ]
    }
   ],
   "source": [
    "numbers = []\n",
    "\n",
    "while len(numbers) < 4:\n",
    "    num = int(input(\"Enter a number: \"))\n",
    "    if num % 2 == 0: ## only even numbers\n",
    "        numbers.append(num)\n",
    "        print(numbers)"
   ]
  },
  {
   "cell_type": "code",
   "execution_count": null,
   "id": "f0de2018",
   "metadata": {},
   "outputs": [],
   "source": [
    "go = True\n",
    "\n",
    "while go: \n",
    "    number = int(input(\"Enter a number between 1 and 10: \"))\n",
    "    \n",
    "    if number < 1 or number > 10:\n",
    "        go = False ## stop the loop\n",
    "    else:\n",
    "        print (\"*\" * number)"
   ]
  },
  {
   "cell_type": "markdown",
   "id": "40b0e9ba",
   "metadata": {},
   "source": [
    "# [ Exercise 4 ]\n",
    "\n",
    "If you save $1,000 each year with 1 percent annual interest, how much would you have saved in 5 years? Fix the code below and show how it works once it's cleaned up. "
   ]
  },
  {
   "cell_type": "code",
   "execution_count": 33,
   "id": "a863e788",
   "metadata": {},
   "outputs": [
    {
     "name": "stdout",
     "output_type": "stream",
     "text": [
      "I saved $5,152.02\n"
     ]
    }
   ],
   "source": [
    "saved = 0\n",
    "\n",
    "annual_interest = .01\n",
    "\n",
    "for year in range (1,6):\n",
    "    saved += 1000\n",
    "    saved = saved * (1+ annual_interest)\n",
    "print (f\"I saved ${saved:,.2f}\")"
   ]
  },
  {
   "cell_type": "code",
   "execution_count": null,
   "id": "45cc9ac5",
   "metadata": {},
   "outputs": [],
   "source": []
  },
  {
   "cell_type": "markdown",
   "id": "8c2406d0",
   "metadata": {},
   "source": [
    "### Break and Continue Statements\n",
    "\n",
    "With the break statement, you can stop a loop before it has looped through all the items in the list, tuple, string, etc.\n",
    "\n",
    "With the continue statement, you can stop the current iteration of the loop and move to the next one. "
   ]
  },
  {
   "cell_type": "code",
   "execution_count": null,
   "id": "a1528e2d",
   "metadata": {},
   "outputs": [],
   "source": [
    "## Break Statement\n",
    "\n",
    "answers = [\"A\",\"C\", \"\", \"B\", \"D\"]\n",
    "\n",
    "##\n",
    "\n",
    "for answer in answers:\n",
    "    if answer == \"\": \n",
    "        print(\"Incomplete\")\n",
    "        break\n",
    "    print(answer)"
   ]
  },
  {
   "cell_type": "code",
   "execution_count": null,
   "id": "e2a7be5b",
   "metadata": {},
   "outputs": [],
   "source": [
    "## Continue Statement\n",
    "\n",
    "answers = [\"A\",\"C\", \"\", \"B\", \"D\"]\n",
    "\n",
    "##\n",
    "\n",
    "for answer in answers:\n",
    "    if answer == \"\": \n",
    "        print(\"Incomplete\")\n",
    "        continue\n",
    "    print(answer)"
   ]
  },
  {
   "cell_type": "code",
   "execution_count": null,
   "id": "6e12a79c",
   "metadata": {},
   "outputs": [],
   "source": [
    "## Break & Continue Statement\n",
    "\n",
    "answers = [\"A\",\"C\", \"\", \"B\", \"D\"]\n",
    "\n",
    "##\n",
    "\n",
    "while True:\n",
    "    answer = input(\"Enter a grade (or 'q' to quit): \")\n",
    "    if answer == 'q': \n",
    "        break\n",
    "    elif answer == \"\":\n",
    "        print(\"Incomplete\")\n",
    "        continue\n",
    "    else:\n",
    "        print(f\"\\nYour grade is {answer}.\")"
   ]
  },
  {
   "cell_type": "markdown",
   "id": "003d89dc",
   "metadata": {},
   "source": [
    "### Nested Loops\n",
    "\n",
    "The \"Inception\" of loops. A nested loop is a loop inside of a loop. The \"inner loop\" will be executed one time for each iteration of the \"outer loop\". "
   ]
  },
  {
   "cell_type": "code",
   "execution_count": 34,
   "id": "6bb64554",
   "metadata": {},
   "outputs": [
    {
     "name": "stdout",
     "output_type": "stream",
     "text": [
      "Today the weather is sunny and the temp is 67 degrees.\n",
      "Today the weather is sunny and the temp is 71 degrees.\n",
      "Today the weather is sunny and the temp is 76 degrees.\n",
      "Today the weather is sunny and the temp is 60 degrees.\n",
      "Today the weather is partly cloudy and the temp is 67 degrees.\n",
      "Today the weather is partly cloudy and the temp is 71 degrees.\n",
      "Today the weather is partly cloudy and the temp is 76 degrees.\n",
      "Today the weather is partly cloudy and the temp is 60 degrees.\n",
      "Today the weather is rain and the temp is 67 degrees.\n",
      "Today the weather is rain and the temp is 71 degrees.\n",
      "Today the weather is rain and the temp is 76 degrees.\n",
      "Today the weather is rain and the temp is 60 degrees.\n"
     ]
    }
   ],
   "source": [
    "weather = [\"sunny\", \"partly cloudy\", \"rain\"]\n",
    "temp = [67, 71, 76, 60]\n",
    "\n",
    "## \n",
    "\n",
    "for x in weather:\n",
    "    for t in temp:\n",
    "        print(f\"Today the weather is {x} and the temp is {t} degrees.\")"
   ]
  },
  {
   "cell_type": "markdown",
   "id": "8af50ca7",
   "metadata": {},
   "source": [
    "# [ Exercise 5 ]\n",
    "\n",
    "Develop the code below to produce the following output: \n",
    "\n",
    "    *\n",
    "    **\n",
    "    ***\n",
    "    ****\n",
    "    *****"
   ]
  },
  {
   "cell_type": "code",
   "execution_count": 41,
   "id": "b842517d",
   "metadata": {},
   "outputs": [
    {
     "name": "stdout",
     "output_type": "stream",
     "text": [
      "*\n",
      "**\n",
      "***\n",
      "****\n",
      "*****\n"
     ]
    }
   ],
   "source": [
    "for num in range(1,6):\n",
    "    print(num * \"*\")"
   ]
  },
  {
   "cell_type": "code",
   "execution_count": null,
   "id": "8fab0818",
   "metadata": {},
   "outputs": [],
   "source": []
  }
 ],
 "metadata": {
  "kernelspec": {
   "display_name": "Python 3 (ipykernel)",
   "language": "python",
   "name": "python3"
  },
  "language_info": {
   "codemirror_mode": {
    "name": "ipython",
    "version": 3
   },
   "file_extension": ".py",
   "mimetype": "text/x-python",
   "name": "python",
   "nbconvert_exporter": "python",
   "pygments_lexer": "ipython3",
   "version": "3.9.7"
  }
 },
 "nbformat": 4,
 "nbformat_minor": 5
}
